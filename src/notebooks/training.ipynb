{
 "cells": [
  {
   "cell_type": "code",
   "execution_count": null,
   "id": "64ca4519",
   "metadata": {
    "vscode": {
     "languageId": "plaintext"
    }
   },
   "outputs": [],
   "source": [
    "# This Python 3 environment comes with many helpful analytics libraries installed\n",
    "# It is defined by the kaggle/python Docker image: https://github.com/kaggle/docker-python\n",
    "# For example, here's several helpful packages to load\n",
    "\n",
    "import numpy as np # linear algebra\n",
    "import pandas as pd # data processing, CSV file I/O (e.g. pd.read_csv)\n",
    "\n",
    "# Input data files are available in the read-only \"../input/\" directory\n",
    "# For example, running this (by clicking run or pressing Shift+Enter) will list all files under the input directory\n",
    "\n",
    "import os\n",
    "for dirname, _, filenames in os.walk('/kaggle/input'):\n",
    "    for filename in filenames:\n",
    "        print(os.path.join(dirname, filename))\n",
    "\n",
    "# You can write up to 20GB to the current directory (/kaggle/working/) that gets preserved as output when you create a version using \"Save & Run All\" \n",
    "# You can also write temporary files to /kaggle/temp/, but they won't be saved outside of the current session"
   ]
  },
  {
   "cell_type": "code",
   "execution_count": null,
   "id": "455dfe3c",
   "metadata": {
    "vscode": {
     "languageId": "plaintext"
    }
   },
   "outputs": [],
   "source": [
    "import pandas as pd\n",
    "from tensorflow.keras.preprocessing.image import ImageDataGenerator\n",
    "\n",
    "# Load train CSV with labels\n",
    "df = pd.read_csv('/kaggle/input/soil-classification/soil_classification-2025/train_labels.csv')\n",
    "df['image_id'] = df['image_id'].apply(lambda x: f\"/kaggle/input/soil-classification/soil_classification-2025/train/{x}\")\n",
    "\n",
    "# Load test CSV (only image_ids)\n",
    "test_df = pd.read_csv('/kaggle/input/soil-classification/soil_classification-2025/test_ids.csv')\n",
    "test_df['image_id'] = test_df['image_id'].apply(lambda x: f\"/kaggle/input/soil-classification/soil_classification-2025/test/{x}\")"
   ]
  },
  {
   "cell_type": "markdown",
   "id": "bcbd4ff4",
   "metadata": {},
   "source": [
    "This part loads the training and test data CSVs. Each row represents an image ID.\n",
    "Then, we attach the full file paths to each image for easy access during training and prediction."
   ]
  },
  {
   "cell_type": "code",
   "execution_count": null,
   "id": "e7fa53e0",
   "metadata": {
    "vscode": {
     "languageId": "plaintext"
    }
   },
   "outputs": [],
   "source": [
    "pd.set_option('display.max_colwidth', None)\n",
    "df.head()"
   ]
  },
  {
   "cell_type": "markdown",
   "id": "4c712176",
   "metadata": {},
   "source": [
    "This code increases the column width for displaying data in Jupyter and shows the first few rows of the training dataframe.\n",
    "It helps ensure that the image paths and labels have been correctly processed."
   ]
  },
  {
   "cell_type": "code",
   "execution_count": null,
   "id": "0de9ec3a",
   "metadata": {
    "vscode": {
     "languageId": "plaintext"
    }
   },
   "outputs": [],
   "source": [
    "train_datagen = ImageDataGenerator(rescale=1./255)\n",
    "\n",
    "train_data = train_datagen.flow_from_dataframe(\n",
    "    dataframe=df,\n",
    "    x_col='image_id',\n",
    "    y_col='soil_type',\n",
    "    target_size=(224, 224),\n",
    "    batch_size=32,\n",
    "    class_mode='categorical',\n",
    "    shuffle=True\n",
    ")"
   ]
  },
  {
   "cell_type": "markdown",
   "id": "40ce275b",
   "metadata": {},
   "source": [
    "This code:\n",
    "\n",
    "Normalizes image pixels.\n",
    "\n",
    "Loads images and labels from a DataFrame.\n",
    "\n",
    "Resizes them to 224x224.\n",
    "\n",
    "Batches them for training (32 images per batch).\n",
    "\n",
    "Converts labels to one-hot encoded format.\n",
    "\n",
    "Shuffles the data for each epoch."
   ]
  },
  {
   "cell_type": "code",
   "execution_count": null,
   "id": "aed4789d",
   "metadata": {
    "vscode": {
     "languageId": "plaintext"
    }
   },
   "outputs": [],
   "source": [
    "from tensorflow.keras.models import Sequential\n",
    "from tensorflow.keras.layers import Conv2D, MaxPooling2D, Flatten, Dense, Dropout\n",
    "from tensorflow.keras.optimizers import Adam\n",
    "\n",
    "model = Sequential([\n",
    "    Conv2D(32, (3, 3), activation='relu', input_shape=(224, 224, 3)),\n",
    "    MaxPooling2D(2, 2),\n",
    "\n",
    "    Conv2D(64, (3, 3), activation='relu'),\n",
    "    MaxPooling2D(2, 2),\n",
    "\n",
    "    Conv2D(128, (3, 3), activation='relu'),\n",
    "    MaxPooling2D(2, 2),\n",
    "\n",
    "    Flatten(),\n",
    "    Dense(128, activation='relu'),\n",
    "    Dropout(0.5),\n",
    "    Dense(4, activation='softmax')  # 4 classes of soil\n",
    "])"
   ]
  },
  {
   "cell_type": "markdown",
   "id": "5dffda12",
   "metadata": {},
   "source": [
    "This model:\n",
    "\n",
    "Is a typical CNN for image classification.\n",
    "\n",
    "Has 3 convolutional blocks for feature extraction.\n",
    "\n",
    "Ends with fully connected layers for classification.\n",
    "\n",
    "Outputs probabilities for 4 soil types."
   ]
  },
  {
   "cell_type": "markdown",
   "id": "0bd754e2",
   "metadata": {},
   "source": [
    "Flatten(): Converts 3D tensor to 1D for dense layers.\n",
    "\n",
    "Dense(128): Fully connected layer with 128 neurons and ReLU activation.\n",
    "\n",
    "Dropout(0.5): Randomly drops 50% of neurons during training to reduce overfitting.\n",
    "\n",
    "Dense(4, activation='softmax'): Final output layer with 4 units (for 4 classes), using softmax to output class probabilities."
   ]
  },
  {
   "cell_type": "code",
   "execution_count": null,
   "id": "1cdc6d40",
   "metadata": {
    "vscode": {
     "languageId": "plaintext"
    }
   },
   "outputs": [],
   "source": [
    "model.compile(optimizer=Adam(learning_rate=0.001),\n",
    "              loss='categorical_crossentropy',\n",
    "              metrics=['accuracy'])\n",
    "\n",
    "# Train the model\n",
    "model.fit(\n",
    "    train_data,\n",
    "    epochs=20\n",
    ")"
   ]
  },
  {
   "cell_type": "markdown",
   "id": "2fffc278",
   "metadata": {},
   "source": [
    "* optimizer=Adam(learning_rate=0.001)\n",
    "Adam is an adaptive learning rate optimizer that works well for most deep learning tasks.\n",
    "\n",
    "* learning_rate=0.001 is a typical starting point — it controls how fast the model learns.\n",
    "\n",
    "* loss='categorical_crossentropy'\n",
    "\n",
    "  \n",
    "Since the model is doing multi-class classification (4 soil types) and labels are one-hot encoded (class_mode='categorical'), this is the correct loss function.\n",
    "* metrics=['accuracy']\n",
    "Tracks model performance by computing how many predictions match the true labels."
   ]
  },
  {
   "cell_type": "code",
   "execution_count": null,
   "id": "025f0227",
   "metadata": {
    "vscode": {
     "languageId": "plaintext"
    }
   },
   "outputs": [],
   "source": [
    "# After training your model\n",
    "model.save('soil_classification_model.h5')  # saves in HDF5 format"
   ]
  }
 ],
 "metadata": {
  "language_info": {
   "name": "python"
  }
 },
 "nbformat": 4,
 "nbformat_minor": 5
}
