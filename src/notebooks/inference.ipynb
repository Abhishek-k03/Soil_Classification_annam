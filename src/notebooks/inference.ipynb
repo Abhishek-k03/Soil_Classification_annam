{
 "cells": [
  {
   "cell_type": "code",
   "execution_count": null,
   "id": "99960e09",
   "metadata": {
    "vscode": {
     "languageId": "plaintext"
    }
   },
   "outputs": [],
   "source": [
    "from tensorflow.keras.models import load_model\n",
    "\n",
    "# Load HDF5 model\n",
    "model = load_model('soil_classification_model.h5')"
   ]
  },
  {
   "cell_type": "code",
   "execution_count": null,
   "id": "67e9903b",
   "metadata": {
    "vscode": {
     "languageId": "plaintext"
    }
   },
   "outputs": [],
   "source": [
    "test_dir = '/kaggle/input/soil-classification/soil_classification-2025/test'\n",
    "\n",
    "test_df = pd.read_csv('/kaggle/input/soil-classification/soil_classification-2025/test_ids.csv')\n",
    "test_df['image_path'] = test_df['image_id'].apply(lambda x: f\"{test_dir}/{x}\")\n",
    "\n",
    "test_df.head()"
   ]
  },
  {
   "cell_type": "code",
   "execution_count": null,
   "id": "43ff5dd2",
   "metadata": {
    "vscode": {
     "languageId": "plaintext"
    }
   },
   "outputs": [],
   "source": [
    "from tensorflow.keras.preprocessing import image\n",
    "import numpy as np\n",
    "\n",
    "def load_and_preprocess(img_path, target_size=(224, 224)):\n",
    "    img = image.load_img(img_path, target_size=target_size)\n",
    "    img_array = image.img_to_array(img)\n",
    "    img_array = img_array / 255.0  # Normalize\n",
    "    return img_array\n",
    "\n",
    "# Preprocess all test images\n",
    "X_test = np.array([load_and_preprocess(path) for path in test_df['image_path']])\n"
   ]
  },
  {
   "cell_type": "code",
   "execution_count": null,
   "id": "b8ac7528",
   "metadata": {
    "vscode": {
     "languageId": "plaintext"
    }
   },
   "outputs": [],
   "source": [
    "predictions = model.predict(X_test)\n",
    "\n",
    "# If it's a classification model (e.g., softmax output), get class labels\n",
    "predicted_labels = np.argmax(predictions, axis=1)\n",
    "\n",
    "# Add predictions to the DataFrame\n",
    "test_df['prediction'] = predicted_labels"
   ]
  },
  {
   "cell_type": "code",
   "execution_count": null,
   "id": "f97a0d1d",
   "metadata": {
    "vscode": {
     "languageId": "plaintext"
    }
   },
   "outputs": [],
   "source": [
    "# class_indices is a dict like: {'clay': 0, 'red': 1, 'black': 2, 'alluvial': 3}\n",
    "class_indices = train_data.class_indices\n",
    "\n",
    "# Reverse it to map index to class\n",
    "index_to_class = {v: k for k, v in class_indices.items()}\n",
    "\n",
    "class_label ={\n",
    "    0:'Alluvial soil',\n",
    "    1:'Black Soil',\n",
    "    2:'Clay soil',\n",
    "    3:'Red soil'\n",
    "}"
   ]
  },
  {
   "cell_type": "code",
   "execution_count": null,
   "id": "bb04f5a5",
   "metadata": {
    "vscode": {
     "languageId": "plaintext"
    }
   },
   "outputs": [],
   "source": [
    "# Map encoded predictions to class labels\n",
    "test_df['soil_type'] = test_df['prediction'].map(class_label)\n",
    "\n",
    "# Save the correct columns to CSV\n",
    "test_df[['image_id', 'soil_type']].to_csv('submission.csv', index=False)"
   ]
  }
 ],
 "metadata": {
  "language_info": {
   "name": "python"
  }
 },
 "nbformat": 4,
 "nbformat_minor": 5
}
