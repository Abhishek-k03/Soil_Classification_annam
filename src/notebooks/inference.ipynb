{
 "cells": [
  {
   "cell_type": "code",
   "execution_count": null,
   "id": "99960e09",
   "metadata": {
    "vscode": {
     "languageId": "plaintext"
    }
   },
   "outputs": [],
   "source": [
    "from tensorflow.keras.models import load_model\n",
    "\n",
    "# Load HDF5 model\n",
    "model = load_model('soil_classification_model.h5')"
   ]
  },
  {
   "cell_type": "code",
   "execution_count": null,
   "id": "67e9903b",
   "metadata": {
    "vscode": {
     "languageId": "plaintext"
    }
   },
   "outputs": [],
   "source": [
    "test_dir = '/kaggle/input/soil-classification/soil_classification-2025/test'\n",
    "\n",
    "test_df = pd.read_csv('/kaggle/input/soil-classification/soil_classification-2025/test_ids.csv')\n",
    "test_df['image_path'] = test_df['image_id'].apply(lambda x: f\"{test_dir}/{x}\")\n",
    "\n",
    "test_df.head()"
   ]
  },
  {
   "cell_type": "markdown",
   "id": "93c3c151",
   "metadata": {},
   "source": [
    "1. Specifies the directory where test images are stored.\n",
    "2. Reads test_ids.csv file that contains a column named 'image_id'\n",
    "3. Adds a new column called 'image_path' that combines the test directory with the image file name.\n",
    "4. This is necessary because flow_from_dataframe needs the full path to locate each image.\n",
    "5. Displays the first few rows of the test dataframe to confirm that the paths were constructed correctly."
   ]
  },
  {
   "cell_type": "code",
   "execution_count": null,
   "id": "43ff5dd2",
   "metadata": {
    "vscode": {
     "languageId": "plaintext"
    }
   },
   "outputs": [],
   "source": [
    "from tensorflow.keras.preprocessing import image\n",
    "import numpy as np\n",
    "\n",
    "def load_and_preprocess(img_path, target_size=(224, 224)):\n",
    "    img = image.load_img(img_path, target_size=target_size)\n",
    "    img_array = image.img_to_array(img)\n",
    "    img_array = img_array / 255.0  # Normalize\n",
    "    return img_array\n",
    "\n",
    "# Preprocess all test images\n",
    "X_test = np.array([load_and_preprocess(path) for path in test_df['image_path']])\n"
   ]
  },
  {
   "cell_type": "markdown",
   "id": "ed26aa70",
   "metadata": {},
   "source": [
    "* Loops through each image path in test_df.\n",
    "\n",
    "* Applies the load_and_preprocess function.\n",
    "\n",
    "* Converts the list of preprocessed images into a NumPy array (X_test) with shape:\n",
    "(num_images, 224, 224, 3)."
   ]
  },
  {
   "cell_type": "code",
   "execution_count": null,
   "id": "b8ac7528",
   "metadata": {
    "vscode": {
     "languageId": "plaintext"
    }
   },
   "outputs": [],
   "source": [
    "predictions = model.predict(X_test)\n",
    "\n",
    "# If it's a classification model (e.g., softmax output), get class labels\n",
    "predicted_labels = np.argmax(predictions, axis=1)\n",
    "\n",
    "# Add predictions to the DataFrame\n",
    "test_df['prediction'] = predicted_labels"
   ]
  },
  {
   "cell_type": "markdown",
   "id": "0df0ead0",
   "metadata": {},
   "source": [
    "* Feeds the test images into your trained CNN model.\n",
    "\n",
    "* The output, predictions, is a 2D array of shape (num_samples, num_classes) — each row contains the softmax probabilities for the 4 soil classes.\n",
    "\n",
    "* np.argmax selects the index of the maximum value (i.e., the class with the highest probability).\n",
    "\n",
    "* You now have a 1D array of integers representing the predicted class index for each image (e.g., [0, 2, 1, ...]).\n",
    "\n",
    "* Adds a new column 'prediction' to test_df that contains the predicted class indices.\n"
   ]
  },
  {
   "cell_type": "code",
   "execution_count": null,
   "id": "f97a0d1d",
   "metadata": {
    "vscode": {
     "languageId": "plaintext"
    }
   },
   "outputs": [],
   "source": [
    "# class_indices is a dict like: {'clay': 0, 'red': 1, 'black': 2, 'alluvial': 3}\n",
    "class_indices = train_data.class_indices\n",
    "\n",
    "# Reverse it to map index to class\n",
    "index_to_class = {v: k for k, v in class_indices.items()}\n",
    "\n",
    "class_label ={\n",
    "    0:'Alluvial soil',\n",
    "    1:'Black Soil',\n",
    "    2:'Clay soil',\n",
    "    3:'Red soil'\n",
    "}"
   ]
  },
  {
   "cell_type": "markdown",
   "id": "6ef7c455",
   "metadata": {},
   "source": [
    "Checking the Mapping of integer labels with Actual Soil Type\n",
    "\n",
    "Creating a Dictionary of Labels to replace them in submission.csv"
   ]
  },
  {
   "cell_type": "code",
   "execution_count": null,
   "id": "bb04f5a5",
   "metadata": {
    "vscode": {
     "languageId": "plaintext"
    }
   },
   "outputs": [],
   "source": [
    "# Map encoded predictions to class labels\n",
    "test_df['soil_type'] = test_df['prediction'].map(class_label)\n",
    "\n",
    "# Save the correct columns to CSV\n",
    "test_df[['image_id', 'soil_type']].to_csv('submission.csv', index=False)"
   ]
  },
  {
   "cell_type": "markdown",
   "id": "b9525e79",
   "metadata": {},
   "source": [
    "creating the final submission.csv with image_id from test dataset and Predicted label\n",
    "\n",
    "This submission.csv will be submitted for final evaluation"
   ]
  }
 ],
 "metadata": {
  "language_info": {
   "name": "python"
  }
 },
 "nbformat": 4,
 "nbformat_minor": 5
}
